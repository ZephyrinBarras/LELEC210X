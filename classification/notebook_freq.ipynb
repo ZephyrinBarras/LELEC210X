{
 "cells": [
  {
   "cell_type": "markdown",
   "metadata": {},
   "source": [
    "Import"
   ]
  },
  {
   "cell_type": "code",
   "execution_count": 1,
   "metadata": {
    "ExecuteTime": {
     "end_time": "2024-04-26T09:00:57.962118600Z",
     "start_time": "2024-04-26T09:00:55.446481600Z"
    }
   },
   "outputs": [],
   "source": [
    "from classification.datasets import Dataset\n",
    "from classification.utils.audio_student import Feature_vector_DS\n",
    "from sklearn.model_selection import StratifiedKFold,train_test_split\n",
    "from sklearn.ensemble import RandomForestClassifier\n",
    "from sklearn.decomposition import PCA\n",
    "from classification.utils.utils import accuracy\n",
    "import numpy as np\n",
    "import os, threading\n",
    "import matplotlib.pyplot as plt\n",
    "from time import time"
   ]
  },
  {
   "cell_type": "markdown",
   "metadata": {},
   "source": [
    "Initialisation"
   ]
  },
  {
   "cell_type": "code",
   "execution_count": 2,
   "metadata": {
    "ExecuteTime": {
     "end_time": "2024-04-26T09:00:57.986375Z",
     "start_time": "2024-04-26T09:00:57.966526200Z"
    }
   },
   "outputs": [],
   "source": [
    "### TO RUN\n",
    "dataset = Dataset()\n",
    "classnames = dataset.list_classes()\n",
    "### TO RUN\n",
    "PATH = \"data/feature_freq/\"  # where to save the features matrices\n",
    "model_dir = \"data/models/\"  # where to save the models\n",
    "os.makedirs(PATH, exist_ok=True)\n",
    "os.makedirs(model_dir, exist_ok=True)"
   ]
  },
  {
   "cell_type": "code",
   "execution_count": 3,
   "metadata": {
    "ExecuteTime": {
     "end_time": "2024-04-26T09:01:02.503455200Z",
     "start_time": "2024-04-26T09:00:57.988647900Z"
    }
   },
   "outputs": [],
   "source": [
    "myds = Feature_vector_DS(dataset, Nft=512, nmel=20, duration=950, shift_pct=0.0, fs=10900)\n",
    "train_pct = 0.7\n",
    "featveclen = len(myds[\"fire\", 0])  # number of items in a feature vector\n",
    "nitems = len(myds)  # number of sounds in the dataset\n",
    "naudio = dataset.naudio  # number of audio files in each class\n",
    "nclass = dataset.nclass  # number of classes\n",
    "nlearn = round(naudio * train_pct)  # number of sounds among naudio for training\n",
    "\n",
    "data_aug_factor = 1\n",
    "class_ids_aug = np.repeat(classnames, naudio * data_aug_factor)\n",
    "\n",
    "\"Compute the matrixed dataset, this takes some seconds, but you can then reload it by commenting this loop and decommenting the np.load below\"\n",
    "X = np.zeros((data_aug_factor * nclass * naudio, featveclen))\n",
    "for s in range(data_aug_factor):\n",
    "    for class_idx, classname in enumerate(classnames):\n",
    "        for idx in range(naudio):\n",
    "            featvec = myds[classname, idx]\n",
    "            X[s * nclass * naudio + class_idx * naudio + idx, :] = featvec\n",
    "np.save(PATH + \"feature_matrix_2D.npy\", X)\n",
    "\n",
    "class_ids_aug = np.repeat(classnames, naudio * data_aug_factor)\n",
    "y = class_ids_aug.copy()"
   ]
  },
  {
   "cell_type": "markdown",
   "metadata": {},
   "source": [
    "fonction pour thread"
   ]
  },
  {
   "cell_type": "code",
   "execution_count": 4,
   "metadata": {
    "ExecuteTime": {
     "end_time": "2024-04-26T09:01:02.524596800Z",
     "start_time": "2024-04-26T09:01:02.514786600Z"
    }
   },
   "outputs": [],
   "source": [
    "debut=500\n",
    "fin=int(20e3)\n",
    "pas=100\n",
    "n_splits = 5\n",
    "length = (fin-debut)//pas\n",
    "t=0.0464\n",
    "\n",
    "abscisse = np.zeros(length)\n",
    "result = np.zeros(length)\n",
    "std = np.zeros(length)\n",
    "\n",
    "\n",
    "def fun(begin,end, step=pas, force=False, PCA_enable=False, NPCA=8):\n",
    "    model_knn = RandomForestClassifier(150)\n",
    "    print(step)\n",
    "    pos_initial = (begin-debut)//step\n",
    "    print(f\"th : {begin}, {pos_initial}\")\n",
    "\n",
    "    t1 = time()\n",
    "    if PCA_enable:\n",
    "        pca = PCA(n_components=NPCA,whiten=True)\n",
    "    for i in range(begin,end,step):\n",
    "        #Creation/chargement des feature vector\n",
    "        try:\n",
    "            X = np.load(PATH+str(i)+\"feature_matrix_2D.npy\")\n",
    "        except:\n",
    "            myds_th = Feature_vector_DS(dataset, Nft=int(t*i), nmel=20, duration=5000, shift_pct=0.0,fs=i)\n",
    "            featveclen=len(myds_th['fire', 0])\n",
    "            X = np.zeros((data_aug_factor * nclass * naudio, featveclen))\n",
    "            for s in range(data_aug_factor):\n",
    "                for class_idx, classname in enumerate(classnames):\n",
    "                    for idx in range(naudio):\n",
    "                        featvec = myds_th[classname, idx]\n",
    "                        X[s * nclass * naudio + class_idx * naudio + idx, :] = featvec\n",
    "            np.save(PATH +str(i)+ \"feature_matrix_2D.npy\", X)\n",
    "    \n",
    "        #classification\n",
    "        acc = []\n",
    "        for _ in range(n_splits):\n",
    "            \n",
    "            X_train, X_test, y_train, y_test = train_test_split(X, y, test_size=0.3, stratify=y)  # random_state=1\n",
    "\n",
    "            mean = np.mean(X_train, axis=0)\n",
    "            X_train_mean=X_train-mean\n",
    "            X_learn_normalised = X_train_mean/ np.linalg.norm(X_train_mean, axis=1, keepdims=True)\n",
    "\n",
    "            mean = np.mean(X_test, axis=0)\n",
    "            X_val_mean=X_test-mean\n",
    "            X_val_normalised = X_val_mean/ np.linalg.norm(X_val_mean, axis=1, keepdims=True)\n",
    "\n",
    "            if PCA_enable:\n",
    "                \n",
    "                X_learn_normalised = pca.fit_transform(X_learn_normalised)\n",
    "                X_val_normalised = pca.transform(X_val_normalised)\n",
    "\n",
    "            if(len(X_learn_normalised[0])!=len(X_val_normalised[0])):\n",
    "                raise(f\"ERrOR {len(X_learn_normalised[0])}, {len(X_val_normalised[0])}\")\n",
    "            \n",
    "            model_knn.fit(X_learn_normalised, y_train)\n",
    "            prediction_knn = model_knn.predict(X_val_normalised)\n",
    "            acc.append(accuracy(prediction_knn, y_test))\n",
    "\n",
    "\n",
    "        k = pos_initial+(i-begin)//step\n",
    "        result[k] = np.mean(acc)\n",
    "        abscisse[k] = i\n",
    "    t2=time()\n",
    "\n",
    "    print(f\"Fun\\tfrom {begin} to {end} time ellapsed {t2-t1:.2f}\")\n"
   ]
  },
  {
   "cell_type": "markdown",
   "metadata": {},
   "source": [
    "Threading gogogo"
   ]
  },
  {
   "cell_type": "code",
   "execution_count": null,
   "metadata": {
    "is_executing": true,
    "ExecuteTime": {
     "start_time": "2024-04-26T09:01:02.527859100Z"
    }
   },
   "outputs": [
    {
     "name": "stdout",
     "output_type": "stream",
     "text": [
      "thread lauchn between 500 and 5301\n",
      "100\n",
      "th : 500, 0\n",
      "thread lauchn between 5300 and 10201\n",
      "100\n",
      "th : 5375, 48\n",
      "thread lauchn between 10200 and 15101\n",
      "100\n",
      "th : 10250, 97\n",
      "thread lauchn between 15100 and 20001\n",
      "100\n",
      "th : 15125, 146\n"
     ]
    }
   ],
   "source": [
    "number_of_thread = 4\n",
    "threads = []\n",
    "\n",
    "space = (fin-debut)//number_of_thread\n",
    "commencement=debut\n",
    "for i in range(number_of_thread):\n",
    "    print(f\"thread lauchn between {commencement+i*space-(commencement+i*space)%pas} and {commencement+(i+1)*space-(commencement+(i+1)*space)%pas+1}\")\n",
    "    thread = threading.Thread(target=fun, args=(commencement+i*space, commencement+(i+1)*space,pas))\n",
    "    thread.start()\n",
    "    threads.append(thread)\n",
    "\n",
    "# Attendre que tous les threads se terminent\n",
    "for thread in threads:\n",
    "    thread.join()\n",
    "\n",
    "#Plot\n",
    "    \n",
    "plt.plot(abscisse,result)\n",
    "plt.show()\n"
   ]
  },
  {
   "cell_type": "code",
   "execution_count": null,
   "metadata": {
    "is_executing": true
   },
   "outputs": [],
   "source": [
    "number_of_thread = 5\n",
    "threads = []\n",
    "\n",
    "space = (fin-debut)//number_of_thread\n",
    "commencement=debut\n",
    "for i in range(number_of_thread):\n",
    "    print(f\"thread lauchn between {commencement+i*space-(commencement+i*space)%pas} and {commencement+(i+1)*space-(commencement+(i+1)*space)%pas+1}\")\n",
    "    thread = threading.Thread(target=fun, args=(commencement+i*space-(commencement+i*space)%pas, commencement+(i+1)*space-(commencement+(i+1)*space)%pas+1,pas, False,True))\n",
    "    thread.start()\n",
    "    threads.append(thread)\n",
    "\n",
    "# Attendre que tous les threads se terminent\n",
    "for thread in threads:\n",
    "    thread.join()\n",
    "\n",
    "#Plot\n",
    "    \n",
    "plt.plot(abscisse,result)\n",
    "plt.show()"
   ]
  },
  {
   "cell_type": "code",
   "execution_count": null,
   "metadata": {
    "is_executing": true
   },
   "outputs": [],
   "source": [
    "couleur=[\"green\",\"purple\",\"yellow\",\"orange\"]\n",
    "for i in range(5000,1000,1000):\n",
    "\n",
    "    lim = np.where(abscisse==i)[0][0]\n",
    "    p,m = np.polyfit(abscisse[:lim],result[:lim],1)\n",
    "    p1,m1 = np.polyfit(abscisse[lim:],result[lim:],1)\n",
    "    print(p1)\n",
    "    plt.plot(abscisse,result)\n",
    "    plt.plot(abscisse[:lim],p*abscisse[:lim]+m,color=couleur[(i-5000)//1000])\n",
    "    plt.plot(abscisse[lim:],p1*abscisse[lim:]+m1,color=couleur[(i-5000)//1000])\n",
    "    plt.show()\n",
    "\n"
   ]
  }
 ],
 "metadata": {
  "kernelspec": {
   "name": "python3",
   "language": "python",
   "display_name": "Python 3 (ipykernel)"
  },
  "language_info": {
   "codemirror_mode": {
    "name": "ipython",
    "version": 3
   },
   "file_extension": ".py",
   "mimetype": "text/x-python",
   "name": "python",
   "nbconvert_exporter": "python",
   "pygments_lexer": "ipython3",
   "version": "3.11.2"
  }
 },
 "nbformat": 4,
 "nbformat_minor": 2
}
